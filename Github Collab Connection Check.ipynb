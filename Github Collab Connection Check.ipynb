{
  "nbformat": 4,
  "nbformat_minor": 0,
  "metadata": {
    "colab": {
      "provenance": [],
      "authorship_tag": "ABX9TyNM6TdNSNEoipkd7eVw0xGe",
      "include_colab_link": true
    },
    "kernelspec": {
      "name": "python3",
      "display_name": "Python 3"
    },
    "language_info": {
      "name": "python"
    }
  },
  "cells": [
    {
      "cell_type": "markdown",
      "metadata": {
        "id": "view-in-github",
        "colab_type": "text"
      },
      "source": [
        "<a href=\"https://colab.research.google.com/github/bakingflute/Hack_the_Hood_Hustle/blob/main/Github%20Collab%20Connection%20Check.ipynb\" target=\"_parent\"><img src=\"https://colab.research.google.com/assets/colab-badge.svg\" alt=\"Open In Colab\"/></a>"
      ]
    },
    {
      "cell_type": "code",
      "execution_count": null,
      "metadata": {
        "id": "ADrGJKG96xxq"
      },
      "outputs": [],
      "source": [
        "## Esther, Blue Tiger Team Tues: 10-12\n",
        "## My instructors is Jazz\n",
        "## Github profile:https://github.com/bakingflute"
      ]
    }
  ]
}