{
  "nbformat": 4,
  "nbformat_minor": 0,
  "metadata": {
    "colab": {
      "provenance": [],
      "authorship_tag": "ABX9TyOC0dTDHaegSqRLZJkphPia",
      "include_colab_link": true
    },
    "kernelspec": {
      "name": "python3",
      "display_name": "Python 3"
    },
    "language_info": {
      "name": "python"
    }
  },
  "cells": [
    {
      "cell_type": "markdown",
      "metadata": {
        "id": "view-in-github",
        "colab_type": "text"
      },
      "source": [
        "<a href=\"https://colab.research.google.com/github/bakingflute/Hack_the_Hood_Hustle/blob/main/reviewWeek4.ipynb\" target=\"_parent\"><img src=\"https://colab.research.google.com/assets/colab-badge.svg\" alt=\"Open In Colab\"/></a>"
      ]
    },
    {
      "cell_type": "markdown",
      "source": [
        "# Lists"
      ],
      "metadata": {
        "id": "kgyJ46P45rdY"
      }
    },
    {
      "cell_type": "code",
      "source": [
        "# 1. Create a list and then print it, making sure to give it a descriptive variable name:\n",
        "\n",
        "my_desserts = [3, \"cookies\", \"cake\", \"ice cream\"]\n",
        "\n",
        "print (my_desserts)\n",
        "\n",
        "# 2 index practice\n",
        "\n",
        "rainbow_colors = ['red', 'orange', 'yellow', 'green', 'blue', 'indigo', 'violet']\n",
        "\n",
        "# Print the third color through indexing\n",
        "\n",
        "print (rainbow_colors [2])"
      ],
      "metadata": {
        "colab": {
          "base_uri": "https://localhost:8080/"
        },
        "id": "uAofCdURwCwr",
        "outputId": "52038f4d-b5a9-499d-97f0-6465853d397a"
      },
      "execution_count": 1,
      "outputs": [
        {
          "output_type": "stream",
          "name": "stdout",
          "text": [
            "[3, 'cookies', 'cake', 'ice cream']\n",
            "yellow\n"
          ]
        }
      ]
    },
    {
      "cell_type": "markdown",
      "source": [
        "# Inputs"
      ],
      "metadata": {
        "id": "5ZJV4vp15t0y"
      }
    },
    {
      "cell_type": "code",
      "source": [
        "# Step 1: Get the user's name as input\n",
        "\n",
        "user_name = input (\"What is your name??\")\n",
        "\n",
        "print (\"Hello, \" + user_name + \"!\")"
      ],
      "metadata": {
        "colab": {
          "base_uri": "https://localhost:8080/"
        },
        "id": "3Enr-S_Lzcq9",
        "outputId": "39a1b8f8-1544-4e2c-addd-20588b9f2495"
      },
      "execution_count": 5,
      "outputs": [
        {
          "output_type": "stream",
          "name": "stdout",
          "text": [
            "What is your name??Esther\n",
            "Hello, Esther!\n"
          ]
        }
      ]
    },
    {
      "cell_type": "code",
      "source": [
        "# Step 2: Get the user's age as input and convert it to an integer\n",
        "\n",
        "age = input (\"How old are you?\")\n",
        "\n",
        "num_age = int(age)\n",
        "\n",
        "future_age = num_age + 5\n",
        "\n",
        "print(f\"Wow! You'll be {future_age} in five years!\" )"
      ],
      "metadata": {
        "colab": {
          "base_uri": "https://localhost:8080/"
        },
        "id": "qS0Xadr51J45",
        "outputId": "add2099d-cfdf-4833-f69e-dbbf4f3b9e1a"
      },
      "execution_count": 7,
      "outputs": [
        {
          "output_type": "stream",
          "name": "stdout",
          "text": [
            "How old are you?19\n",
            "Wow! You'll be 24 in five years!\n"
          ]
        }
      ]
    },
    {
      "cell_type": "markdown",
      "source": [
        "# Conditionals"
      ],
      "metadata": {
        "id": "pRuuJcr55jOR"
      }
    },
    {
      "cell_type": "code",
      "source": [
        "# Ask the user's age with an input statement\n",
        "\n",
        "user_age = input (\"What is your age?\")\n",
        "\n",
        "num_age = int(user_age)\n",
        "\n",
        "if num_age >= 18:\n",
        "  print (\"You are an adult! You can vote, but not drink.\")\n",
        "\n",
        "else:\n",
        "  print (\"You are a minor, but you still have some rights ig.\")"
      ],
      "metadata": {
        "colab": {
          "base_uri": "https://localhost:8080/"
        },
        "id": "mXRAswJP5oPd",
        "outputId": "2cdfe550-07f6-4537-ddfb-b55a6e79815c"
      },
      "execution_count": 11,
      "outputs": [
        {
          "output_type": "stream",
          "name": "stdout",
          "text": [
            "What is your age?12\n",
            "You are not an adult, but you still have some rights ig.\n"
          ]
        }
      ]
    },
    {
      "cell_type": "code",
      "source": [
        "#membership operator?\n",
        "\n",
        "fruits_search = input (\"What fruit are you looking for today? \")\n",
        "\n",
        "fruits = [\"apple\", \"banana\", \"orange\", \"grape\", \"pineapple\"]\n",
        "\n",
        "if fruits_search.lower() in fruits:\n",
        "  print (\"Yep, we have it in stock! Let me grab that for you.\")\n",
        "\n",
        "else:\n",
        "  print (\"Sorry, we don't carry that. Try Whole Foods!\")"
      ],
      "metadata": {
        "colab": {
          "base_uri": "https://localhost:8080/"
        },
        "id": "0BuD25rL70Km",
        "outputId": "5dd1ebce-a60d-471b-c362-cfb687db2978"
      },
      "execution_count": 16,
      "outputs": [
        {
          "output_type": "stream",
          "name": "stdout",
          "text": [
            "What fruit are you looking for today? APple\n",
            "Yep, we have it in stock! Let me grab that for you.\n"
          ]
        }
      ]
    }
  ]
}