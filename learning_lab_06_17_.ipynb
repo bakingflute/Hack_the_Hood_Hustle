{
  "nbformat": 4,
  "nbformat_minor": 0,
  "metadata": {
    "colab": {
      "provenance": [],
      "authorship_tag": "ABX9TyN9NOK3g0Q2nOQkWaJ19RhK",
      "include_colab_link": true
    },
    "kernelspec": {
      "name": "python3",
      "display_name": "Python 3"
    },
    "language_info": {
      "name": "python"
    }
  },
  "cells": [
    {
      "cell_type": "markdown",
      "metadata": {
        "id": "view-in-github",
        "colab_type": "text"
      },
      "source": [
        "<a href=\"https://colab.research.google.com/github/bakingflute/Hack_the_Hood_Hustle/blob/main/learning_lab_06_17_.ipynb\" target=\"_parent\"><img src=\"https://colab.research.google.com/assets/colab-badge.svg\" alt=\"Open In Colab\"/></a>"
      ]
    },
    {
      "cell_type": "markdown",
      "source": [
        "#Learning Lab 2 June 17, 2024\n",
        "####Intro to Pseudo Code"
      ],
      "metadata": {
        "id": "-niFz8hIwLzA"
      }
    },
    {
      "cell_type": "markdown",
      "source": [
        "## The rules to define variables\n",
        "\n",
        "##### 1) Must start with a letter or underscore\n",
        "##### 2) Consists of letters, numbers, and underscores, but it will not start with a number\n",
        "##### 3) variable names are case sensitive"
      ],
      "metadata": {
        "id": "Mq_24DZDxy-N"
      }
    },
    {
      "cell_type": "code",
      "source": [
        "car = \"Audi\"\n",
        "car"
      ],
      "metadata": {
        "colab": {
          "base_uri": "https://localhost:8080/",
          "height": 36
        },
        "id": "3hbihYy80cP0",
        "outputId": "5bd22e3e-733d-4cda-d2e1-1c068a4c3e3b"
      },
      "execution_count": null,
      "outputs": [
        {
          "output_type": "execute_result",
          "data": {
            "text/plain": [
              "'Audi'"
            ],
            "application/vnd.google.colaboratory.intrinsic+json": {
              "type": "string"
            }
          },
          "metadata": {},
          "execution_count": 6
        }
      ]
    },
    {
      "cell_type": "markdown",
      "source": [
        "### Psuedo code for my application\n",
        "I want to write a program that takes user input and prints it back to the screen.\n",
        "\n",
        "`First_name` the user's first name\n",
        "\n",
        "`Last_Name` the user's last name\n",
        "\n",
        "`Age` the user's age\n",
        "\n",
        "`Fav_Colour` the user's favourite colour\n",
        "\n",
        "`Fav_Sport` the user's favourite sport\n",
        "\n",
        "`Fav_Team` the user's favourite team\n",
        "use a 'built-in' process to take user's data.\n",
        "\n",
        "use a 'built-in' process to display user's data."
      ],
      "metadata": {
        "id": "4jyZcmxm0piR"
      }
    },
    {
      "cell_type": "code",
      "source": [
        "### Code for my application\n",
        "First_Name = 'Esther'\n",
        "Last_Name = 'Aduamah'\n",
        "Age = 19\n",
        "Fav_Color = 'Green'\n",
        "Fav_Sport = 'Basketball'\n",
        "Fav_Team = 'Boston Celetics'\n",
        "\n"
      ],
      "metadata": {
        "id": "05k5Wt4G2flq"
      },
      "execution_count": null,
      "outputs": []
    },
    {
      "cell_type": "code",
      "source": [
        "First_name = input('What is your first name? ')\n",
        "Last_Name = input('What is your last name? ')\n",
        "Age = input('What is your age? ')\n",
        "Fav_Colour = input('What is your favourite colour? ')\n",
        "Fav_Sport = input('What is your favourite sport? ')\n",
        "Fav_Team = input('What is your favourite team? ')\n",
        "\n"
      ],
      "metadata": {
        "colab": {
          "base_uri": "https://localhost:8080/"
        },
        "id": "Y565BUhN4Shj",
        "outputId": "cf025422-4e07-4074-c213-f334221f57a3"
      },
      "execution_count": null,
      "outputs": [
        {
          "name": "stdout",
          "output_type": "stream",
          "text": [
            "What is your first name? Est\n",
            "What is your last name? Ad\n",
            "What is your age? 18\n",
            "What is your favourite colour? Dark Green\n",
            "What is your favourite sport? Basket\n",
            "What is your favourite team? Celetics\n"
          ]
        }
      ]
    },
    {
      "cell_type": "code",
      "source": [
        "print (\"User name is\", (First_Name), \"Last name is\", (Last_Name), \"Age is\", (Age), \"Favorite Color is\", (Fav_Color), \"Favorite Sport is\", (Fav_Sport), \"Favorite Team is\", (Fav_Team) )"
      ],
      "metadata": {
        "colab": {
          "base_uri": "https://localhost:8080/"
        },
        "id": "A_giB8xX5ZyP",
        "outputId": "0f270702-af25-4b21-979f-0f4ade8c4146"
      },
      "execution_count": null,
      "outputs": [
        {
          "output_type": "stream",
          "name": "stdout",
          "text": [
            "User name is Esther Last name is Aduamah Age is 19 Favorite Color is Green Favorite Sport is Basketball Favorite Team is Boston Celetics\n"
          ]
        }
      ]
    },
    {
      "cell_type": "markdown",
      "source": [
        "## F-String Formatting"
      ],
      "metadata": {
        "id": "yuL0sYIb7VAW"
      }
    },
    {
      "cell_type": "code",
      "source": [
        "greetings = 'Hello'\n",
        "name = 'John'"
      ],
      "metadata": {
        "id": "I8lzL_NP6-iA"
      },
      "execution_count": null,
      "outputs": []
    },
    {
      "cell_type": "code",
      "source": [
        "print (\"hello there, John\")"
      ],
      "metadata": {
        "colab": {
          "base_uri": "https://localhost:8080/"
        },
        "id": "gkChVhNy7FNI",
        "outputId": "8e3f893f-4511-46e6-f636-f025b2dabb6e"
      },
      "execution_count": null,
      "outputs": [
        {
          "output_type": "stream",
          "name": "stdout",
          "text": [
            "hello there, John\n"
          ]
        }
      ]
    },
    {
      "cell_type": "code",
      "source": [],
      "metadata": {
        "id": "rTp4l0Xs7IBW"
      },
      "execution_count": null,
      "outputs": []
    }
  ]
}